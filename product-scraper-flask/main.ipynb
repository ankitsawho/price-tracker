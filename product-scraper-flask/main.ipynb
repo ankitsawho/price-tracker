{
 "cells": [
  {
   "cell_type": "code",
   "execution_count": 1,
   "metadata": {},
   "outputs": [],
   "source": [
    "import requests\n",
    "from bs4 import BeautifulSoup\n",
    "\n",
    "HEADERS = ({'User-Agent':\n",
    "            'Mozilla/5.0 (X11; Linux x86_64) AppleWebKit/537.36 (KHTML, like Gecko) Chrome/44.0.2403.157 Safari/537.36',\n",
    "            'Accept-Language': 'en-US, en;q=0.5'})"
   ]
  },
  {
   "cell_type": "code",
   "execution_count": 3,
   "metadata": {},
   "outputs": [],
   "source": [
    "class Product:\n",
    "    def __init__(self, site, title, link, rating, reviews, price, img):\n",
    "        self.site = site\n",
    "        self.title = title\n",
    "        self.link = link\n",
    "        self.rating = rating\n",
    "        self.reviews = reviews\n",
    "        self.price = price\n",
    "        self.img = img\n",
    "        \n",
    "    def to_dict(self):\n",
    "        return {\n",
    "            'site': self.site,\n",
    "            'title': self.title,\n",
    "            'link': self.link,\n",
    "            'rating': self.rating,\n",
    "            'reviews': self.reviews,\n",
    "            'price': self.price,\n",
    "            'img': self.img\n",
    "        }\n",
    "        \n",
    "    def display(self):\n",
    "        print(self.site)\n",
    "        print(self.title)\n",
    "        print(self.link)\n",
    "        print(self.rating)\n",
    "        print(self.reviews)\n",
    "        print(self.price)\n",
    "        print(self.img)"
   ]
  },
  {
   "cell_type": "code",
   "execution_count": 20,
   "metadata": {},
   "outputs": [],
   "source": [
    "def amazon_track_details(url):\n",
    "    try:\n",
    "        webpage = requests.get(url, headers=HEADERS)\n",
    "        soup = BeautifulSoup(webpage.content, \"lxml\")\n",
    "        title = soup.find('span', attrs={'id':'productTitle'}).text.strip()\n",
    "        ratings = soup.find('span', attrs={'id':'acrCustomerReviewText'}).text.replace(' ratings', '')\n",
    "        price = soup.find('span', attrs={'class':'a-price aok-align-center reinventPricePriceToPayMargin priceToPay'}).find('span', attrs={'class':'a-offscreen'}).text\n",
    "        discount = soup.find('span', attrs={'class':\"a-size-large a-color-price savingPriceOverride aok-align-center reinventPriceSavingsPercentageMargin savingsPercentage\"}).text\n",
    "        real_price_data = soup.find('span', attrs={'class':'a-size-small a-color-secondary aok-align-center basisPrice'})\n",
    "        real_price = real_price_data.find('span', attrs={'class':'a-offscreen'}).text\n",
    "        desc_data = soup.find('ul', attrs={'class':'a-unordered-list a-vertical a-spacing-mini'})\n",
    "        desc = desc_data.text\n",
    "        return {\n",
    "            \"title\": title,\n",
    "            \"ratings\": ratings,\n",
    "            \"price\": price,\n",
    "            \"discount\": discount,\n",
    "            \"real_price\": real_price,\n",
    "            \"desc\": desc\n",
    "        }\n",
    "    except:\n",
    "        return {\"message\":\"error\"}\n"
   ]
  },
  {
   "cell_type": "code",
   "execution_count": 21,
   "metadata": {},
   "outputs": [
    {
     "data": {
      "text/plain": [
       "{'title': 'Sony Wh-Ch510 Bluetooth Wireless On Ear Headphones Up-To 35Hrs Playtime Lightweight, Type-C, Play/Pause Control, 30Mm Driver, Bt Version 5.0 & Voice Assistant Support For Mobiles, with mic - Blue',\n",
       " 'ratings': '3,337',\n",
       " 'price': '₹2,690',\n",
       " 'discount': '-46%',\n",
       " 'real_price': '₹4,990',\n",
       " 'desc': '  Comfort : Lightweight, all-day listening with quality sound    Bluetooth : Listen to your favourite tracks wirelessly with a Bluetooth wireless technology by pairing your smartphone or tablet.    Battery Life : With up to 35 hours of battery life, you’ll have enough power for even long trips away.    If your headphones are running low on power, a 10-minute quick charging with the Type-C cable will give you up to 90 minutes of play.    Take music anywhere : Not only are the WH-CH510 headphones compact and lightweight, but the swivel earcups make it easy to safely pack them away in your bag.    Buttons that make listening easy : Use the buttons to play, stop, or skip through tracks and adjust the volume.    Easy hands-free calling : Conversation flows freely with easy hands-free calling, thanks to the built-in microphone. No need to even take your phone from your pocket.   '}"
      ]
     },
     "execution_count": 21,
     "metadata": {},
     "output_type": "execute_result"
    }
   ],
   "source": [
    "amazon_details(\"https://www.amazon.in/SONY-WH-CH510-Wireless-Headphone-Blue/dp/B0817T8FB6/?_encoding=UTF8&pd_rd_w=LKdhN&content-id=amzn1.sym.b5b6da36-128a-4deb-abfd-563ae12c2d96&pf_rd_p=b5b6da36-128a-4deb-abfd-563ae12c2d96&pf_rd_r=RS3BVXGPKQNXQNMDT8NS&pd_rd_wg=NtMzM&pd_rd_r=bc4bea73-b5ab-43a1-8ab1-83f390e8ac93&ref_=pd_gw_ci_mcx_mr_hp_atf_m\")"
   ]
  },
  {
   "cell_type": "code",
   "execution_count": 33,
   "metadata": {},
   "outputs": [],
   "source": [
    "def flipkart_details(url):\n",
    "    try:\n",
    "        webpage = requests.get(url, headers=HEADERS)\n",
    "        soup = BeautifulSoup(webpage.content, \"lxml\")\n",
    "        title = soup.find('span', attrs={'class':'B_NuCI'}).text\n",
    "        stars = soup.find('div', attrs={'class':'_3LWZlK'}).text\n",
    "        ratings = soup.find('span', attrs={'class':'_2_R_DZ'}).text\n",
    "        subst = ratings.find(' Ratings')\n",
    "        ratings = ratings[:subst]\n",
    "        price = soup.find('div', attrs={'class':'_30jeq3 _16Jk6d'}).text\n",
    "        real_price = soup.find('div', attrs={'class':'_3I9_wc _2p6lqe'}).text\n",
    "        discount = soup.find('div', attrs={'class':'_3Ay6Sb _31Dcoz'}).text\n",
    "        desc = soup.find('div', attrs={'class':'_2418kt'}).text\n",
    "        return {\n",
    "            \"title\": title,\n",
    "            \"star\": stars,\n",
    "            \"ratings\": ratings,\n",
    "            \"price\": price,\n",
    "            \"discount\": discount,\n",
    "            \"real_price\": real_price,\n",
    "            \"desc\": desc\n",
    "        }\n",
    "    except:\n",
    "        return {\"message\":\"error\"}"
   ]
  },
  {
   "cell_type": "code",
   "execution_count": 34,
   "metadata": {},
   "outputs": [
    {
     "data": {
      "text/plain": [
       "{'title': 'Sheen Microfiber Vehicle Washing  Cloth\\xa0\\xa0(Pack Of 3)',\n",
       " 'star': '4.3',\n",
       " 'ratings': '10,961',\n",
       " 'price': '₹236',\n",
       " 'discount': '76% off',\n",
       " 'real_price': '₹999',\n",
       " 'desc': 'Material:MicrofiberColor: MulticolorNon LintingLength x Width : 30 cm x 40 cmPack of 3'}"
      ]
     },
     "execution_count": 34,
     "metadata": {},
     "output_type": "execute_result"
    }
   ],
   "source": [
    "flipkart_details('https://www.flipkart.com/sheen-microfiber-vehicle-washing-cloth/p/itm3261ad14a9b51?pid=VWCFZ394HVJ8ACYX&lid=LSTVWCFZ394HVJ8ACYXEKPQAD&marketplace=FLIPKART&q=tooth&store=search.flipkart.com&srno=s_1_1&otracker=search&fm=organic&iid=ad602640-6ca2-49bd-8733-f43a1c9d4fc0.VWCFZ394HVJ8ACYX.SEARCH&ppt=None&ppn=None&ssid=588fiz3l2o0000001680634128725&qH=28b26be59c986170')"
   ]
  },
  {
   "cell_type": "code",
   "execution_count": 27,
   "metadata": {},
   "outputs": [],
   "source": [
    "test = \"10,961 Ratings\\xa0&\\xa0959 Reviews\""
   ]
  },
  {
   "cell_type": "code",
   "execution_count": 29,
   "metadata": {},
   "outputs": [
    {
     "data": {
      "text/plain": [
       "6"
      ]
     },
     "execution_count": 29,
     "metadata": {},
     "output_type": "execute_result"
    }
   ],
   "source": [
    "test.find(' Ratings')"
   ]
  },
  {
   "cell_type": "code",
   "execution_count": 32,
   "metadata": {},
   "outputs": [
    {
     "data": {
      "text/plain": [
       "'10,961'"
      ]
     },
     "execution_count": 32,
     "metadata": {},
     "output_type": "execute_result"
    }
   ],
   "source": [
    "test[:6]"
   ]
  },
  {
   "cell_type": "code",
   "execution_count": 35,
   "metadata": {},
   "outputs": [],
   "source": [
    "link = \"https://www.flipkart.com/sheen-microfiber-vehicle-washing-cloth/p/itm3261ad14a9b51?pid=VWCFZ394HVJ8ACYX&lid=LSTVWCFZ394HVJ8ACYXEKPQAD&marketplace=FLIPKART&q=tooth&store=search.flipkart.com&srno=s_1_1&otracker=search&fm=organic&iid=ad602640-6ca2-49bd-8733-f43a1c9d4fc0.VWCFZ394HVJ8ACYX.SEARCH&ppt=None&ppn=None&ssid=588fiz3l2o0000001680634128725&qH=28b26be59c986170\""
   ]
  },
  {
   "cell_type": "code",
   "execution_count": 40,
   "metadata": {},
   "outputs": [],
   "source": [
    "link2 = \"https://www.amazon.in/SONY-WH-CH510-Wireless-Headphone-Blue/dp/B0817T8FB6/?_encoding=UTF8&pd_rd_w=LKdhN&content-id=amzn1.sym.b5b6da36-128a-4deb-abfd-563ae12c2d96&pf_rd_p=b5b6da36-128a-4deb-abfd-563ae12c2d96&pf_rd_r=RS3BVXGPKQNXQNMDT8NS&pd_rd_wg=NtMzM&pd_rd_r=bc4bea73-b5ab-43a1-8ab1-83f390e8ac93&ref_=pd_gw_ci_mcx_mr_hp_atf_m\""
   ]
  },
  {
   "cell_type": "code",
   "execution_count": 42,
   "metadata": {},
   "outputs": [
    {
     "data": {
      "text/plain": [
       "'flipkart'"
      ]
     },
     "execution_count": 42,
     "metadata": {},
     "output_type": "execute_result"
    }
   ],
   "source": [
    "link.split('.')[1]"
   ]
  },
  {
   "cell_type": "code",
   "execution_count": 43,
   "metadata": {},
   "outputs": [
    {
     "data": {
      "text/plain": [
       "'amazon'"
      ]
     },
     "execution_count": 43,
     "metadata": {},
     "output_type": "execute_result"
    }
   ],
   "source": [
    "link2.split('.')[1]"
   ]
  },
  {
   "cell_type": "code",
   "execution_count": null,
   "metadata": {},
   "outputs": [],
   "source": []
  }
 ],
 "metadata": {
  "kernelspec": {
   "display_name": "env",
   "language": "python",
   "name": "python3"
  },
  "language_info": {
   "codemirror_mode": {
    "name": "ipython",
    "version": 3
   },
   "file_extension": ".py",
   "mimetype": "text/x-python",
   "name": "python",
   "nbconvert_exporter": "python",
   "pygments_lexer": "ipython3",
   "version": "3.10.6"
  },
  "orig_nbformat": 4
 },
 "nbformat": 4,
 "nbformat_minor": 2
}
